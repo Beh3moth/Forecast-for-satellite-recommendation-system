{
 "cells": [
  {
   "attachments": {},
   "cell_type": "markdown",
   "metadata": {},
   "source": [
    "### Import of necessary libraries"
   ]
  },
  {
   "cell_type": "code",
   "execution_count": 44,
   "metadata": {
    "collapsed": false,
    "pycharm": {
     "is_executing": true
    }
   },
   "outputs": [],
   "source": [
    "from interface import Interface\n",
    "from shapely import Polygon\n",
    "import folium\n",
    "import geopandas\n",
    "import json\n",
    "import geohash"
   ]
  },
  {
   "cell_type": "code",
   "execution_count": 45,
   "metadata": {},
   "outputs": [
    {
     "name": "stdout",
     "output_type": "stream",
     "text": [
      "{'s': 28.125, 'w': 22.5, 'n': 33.75, 'e': 33.75}\n",
      "POLYGON ((33.75 28.125, 33.75 33.75, 22.5 33.75, 22.5 28.125, 33.75 28.125))\n"
     ]
    }
   ],
   "source": [
    "def extract_polygon_from_geohash(geohash_str):\n",
    "    \n",
    "    x = geohash.bbox(geohash_str)\n",
    "    print(x)\n",
    "    \n",
    "    min_lat = x[\"e\"]\n",
    "    max_lat = x[\"w\"]\n",
    "    min_lon = x[\"s\"]\n",
    "    max_lon = x[\"n\"]\n",
    "\n",
    "    # Create a polygon from the bounding box coordinates\n",
    "    polygon = Polygon([(min_lat, min_lon), (min_lat, max_lon), (max_lat, max_lon), (max_lat, min_lon)])\n",
    "\n",
    "    return polygon\n",
    "\n",
    "geohash_str = 'st'\n",
    "polygon = extract_polygon_from_geohash(geohash_str)\n",
    "print(polygon)\n"
   ]
  },
  {
   "attachments": {},
   "cell_type": "markdown",
   "metadata": {},
   "source": [
    "### Creation of a polygon as an example of AOI"
   ]
  },
  {
   "cell_type": "code",
   "execution_count": 46,
   "metadata": {
    "collapsed": false,
    "pycharm": {
     "is_executing": true
    }
   },
   "outputs": [
    {
     "data": {
      "text/html": [
       "<div style=\"width:100%;\"><div style=\"position:relative;width:100%;height:0;padding-bottom:60%;\"><span style=\"color:#565656\">Make this Notebook Trusted to load map: File -> Trust Notebook</span><iframe srcdoc=\"&lt;!DOCTYPE html&gt;\n",
       "&lt;html&gt;\n",
       "&lt;head&gt;\n",
       "    \n",
       "    &lt;meta http-equiv=&quot;content-type&quot; content=&quot;text/html; charset=UTF-8&quot; /&gt;\n",
       "    \n",
       "        &lt;script&gt;\n",
       "            L_NO_TOUCH = false;\n",
       "            L_DISABLE_3D = false;\n",
       "        &lt;/script&gt;\n",
       "    \n",
       "    &lt;style&gt;html, body {width: 100%;height: 100%;margin: 0;padding: 0;}&lt;/style&gt;\n",
       "    &lt;style&gt;#map {position:absolute;top:0;bottom:0;right:0;left:0;}&lt;/style&gt;\n",
       "    &lt;script src=&quot;https://cdn.jsdelivr.net/npm/leaflet@1.9.3/dist/leaflet.js&quot;&gt;&lt;/script&gt;\n",
       "    &lt;script src=&quot;https://code.jquery.com/jquery-1.12.4.min.js&quot;&gt;&lt;/script&gt;\n",
       "    &lt;script src=&quot;https://cdn.jsdelivr.net/npm/bootstrap@5.2.2/dist/js/bootstrap.bundle.min.js&quot;&gt;&lt;/script&gt;\n",
       "    &lt;script src=&quot;https://cdnjs.cloudflare.com/ajax/libs/Leaflet.awesome-markers/2.0.2/leaflet.awesome-markers.js&quot;&gt;&lt;/script&gt;\n",
       "    &lt;link rel=&quot;stylesheet&quot; href=&quot;https://cdn.jsdelivr.net/npm/leaflet@1.9.3/dist/leaflet.css&quot;/&gt;\n",
       "    &lt;link rel=&quot;stylesheet&quot; href=&quot;https://cdn.jsdelivr.net/npm/bootstrap@5.2.2/dist/css/bootstrap.min.css&quot;/&gt;\n",
       "    &lt;link rel=&quot;stylesheet&quot; href=&quot;https://netdna.bootstrapcdn.com/bootstrap/3.0.0/css/bootstrap.min.css&quot;/&gt;\n",
       "    &lt;link rel=&quot;stylesheet&quot; href=&quot;https://cdn.jsdelivr.net/npm/@fortawesome/fontawesome-free@6.2.0/css/all.min.css&quot;/&gt;\n",
       "    &lt;link rel=&quot;stylesheet&quot; href=&quot;https://cdnjs.cloudflare.com/ajax/libs/Leaflet.awesome-markers/2.0.2/leaflet.awesome-markers.css&quot;/&gt;\n",
       "    &lt;link rel=&quot;stylesheet&quot; href=&quot;https://cdn.jsdelivr.net/gh/python-visualization/folium/folium/templates/leaflet.awesome.rotate.min.css&quot;/&gt;\n",
       "    \n",
       "            &lt;meta name=&quot;viewport&quot; content=&quot;width=device-width,\n",
       "                initial-scale=1.0, maximum-scale=1.0, user-scalable=no&quot; /&gt;\n",
       "            &lt;style&gt;\n",
       "                #map_96d1bc07a1fe2be90f7b6435bda883b3 {\n",
       "                    position: relative;\n",
       "                    width: 100.0%;\n",
       "                    height: 100.0%;\n",
       "                    left: 0.0%;\n",
       "                    top: 0.0%;\n",
       "                }\n",
       "                .leaflet-container { font-size: 1rem; }\n",
       "            &lt;/style&gt;\n",
       "        \n",
       "&lt;/head&gt;\n",
       "&lt;body&gt;\n",
       "    \n",
       "    \n",
       "            &lt;div class=&quot;folium-map&quot; id=&quot;map_96d1bc07a1fe2be90f7b6435bda883b3&quot; &gt;&lt;/div&gt;\n",
       "        \n",
       "&lt;/body&gt;\n",
       "&lt;script&gt;\n",
       "    \n",
       "    \n",
       "            var map_96d1bc07a1fe2be90f7b6435bda883b3 = L.map(\n",
       "                &quot;map_96d1bc07a1fe2be90f7b6435bda883b3&quot;,\n",
       "                {\n",
       "                    center: [50.854457, 4.377184],\n",
       "                    crs: L.CRS.EPSG3857,\n",
       "                    zoom: 5,\n",
       "                    zoomControl: true,\n",
       "                    preferCanvas: false,\n",
       "                }\n",
       "            );\n",
       "\n",
       "            \n",
       "\n",
       "        \n",
       "    \n",
       "            var tile_layer_304e1de183c81a710b9edbe8a3b3e2ac = L.tileLayer(\n",
       "                &quot;https://{s}.tile.openstreetmap.org/{z}/{x}/{y}.png&quot;,\n",
       "                {&quot;attribution&quot;: &quot;Data by \\u0026copy; \\u003ca target=\\&quot;_blank\\&quot; href=\\&quot;http://openstreetmap.org\\&quot;\\u003eOpenStreetMap\\u003c/a\\u003e, under \\u003ca target=\\&quot;_blank\\&quot; href=\\&quot;http://www.openstreetmap.org/copyright\\&quot;\\u003eODbL\\u003c/a\\u003e.&quot;, &quot;detectRetina&quot;: false, &quot;maxNativeZoom&quot;: 18, &quot;maxZoom&quot;: 18, &quot;minZoom&quot;: 0, &quot;noWrap&quot;: false, &quot;opacity&quot;: 1, &quot;subdomains&quot;: &quot;abc&quot;, &quot;tms&quot;: false}\n",
       "            ).addTo(map_96d1bc07a1fe2be90f7b6435bda883b3);\n",
       "        \n",
       "    \n",
       "\n",
       "        function geo_json_367e5f5aa1297ef3c5c29a73755c727f_onEachFeature(feature, layer) {\n",
       "            layer.on({\n",
       "            });\n",
       "        };\n",
       "        var geo_json_367e5f5aa1297ef3c5c29a73755c727f = L.geoJson(null, {\n",
       "                onEachFeature: geo_json_367e5f5aa1297ef3c5c29a73755c727f_onEachFeature,\n",
       "            \n",
       "        });\n",
       "\n",
       "        function geo_json_367e5f5aa1297ef3c5c29a73755c727f_add (data) {\n",
       "            geo_json_367e5f5aa1297ef3c5c29a73755c727f\n",
       "                .addData(data)\n",
       "                .addTo(map_96d1bc07a1fe2be90f7b6435bda883b3);\n",
       "        }\n",
       "            geo_json_367e5f5aa1297ef3c5c29a73755c727f_add({&quot;bbox&quot;: [22.5, 28.125, 33.75, 33.75], &quot;features&quot;: [{&quot;bbox&quot;: [22.5, 28.125, 33.75, 33.75], &quot;geometry&quot;: {&quot;coordinates&quot;: [[[33.75, 28.125], [33.75, 33.75], [22.5, 33.75], [22.5, 28.125], [33.75, 28.125]]], &quot;type&quot;: &quot;Polygon&quot;}, &quot;id&quot;: &quot;0&quot;, &quot;properties&quot;: {}, &quot;type&quot;: &quot;Feature&quot;}], &quot;type&quot;: &quot;FeatureCollection&quot;});\n",
       "\n",
       "        \n",
       "&lt;/script&gt;\n",
       "&lt;/html&gt;\" style=\"position:absolute;width:100%;height:100%;left:0;top:0;border:none !important;\" allowfullscreen webkitallowfullscreen mozallowfullscreen></iframe></div></div>"
      ],
      "text/plain": [
       "<folium.folium.Map at 0x1568c336590>"
      ]
     },
     "execution_count": 46,
     "metadata": {},
     "output_type": "execute_result"
    }
   ],
   "source": [
    "polygon_geom = geopandas.GeoSeries(polygon)\n",
    "\n",
    "m = folium.Map(location=[50.854457, 4.377184], zoom_start=5)\n",
    "folium.GeoJson(polygon_geom.__geo_interface__).add_to(m)\n",
    "\n",
    "# x = geopandas.GeoSeries(polygon_geom)\n",
    "              \n",
    "# rectangle = geopandas.GeoDataFrame(geometry=x.envelope)\n",
    "\n",
    "# # Define the number of rows and columns for the grid\n",
    "# num_rows = 5\n",
    "# num_cols = 5\n",
    "\n",
    "# # Calculate the width and height of each sub-area\n",
    "# width = (rectangle.bounds['maxx'] - rectangle.bounds['minx']) / num_cols\n",
    "# height = (rectangle.bounds['maxy'] - rectangle.bounds['miny']) / num_rows\n",
    "\n",
    "# # Create an empty list to store the sub-areas\n",
    "# sub_areas = []\n",
    "\n",
    "# # Iterate over the rows and columns to create the grid of sub-areas\n",
    "# for row in range(num_rows):\n",
    "#     for col in range(num_cols):\n",
    "#         minx = rectangle.bounds['minx'] + col * width\n",
    "#         maxx = minx + width\n",
    "#         miny = rectangle.bounds['miny'] + row * height\n",
    "#         maxy = miny + height\n",
    "#         sub_area_coords = [(minx, miny), (maxx, miny), (maxx, maxy), (minx, maxy)]\n",
    "#         sub_areas.append(Polygon(sub_area_coords))\n",
    "\n",
    "# # Create a GeoDataFrame with the sub-areas\n",
    "# sub_areas_gdf = geopandas.GeoDataFrame(geometry=sub_areas)\n",
    "\n",
    "# # Perform the spatial intersection to obtain the divided sub-areas\n",
    "# divided_areas = geopandas.overlay(sub_areas_gdf, rectangle, how='intersection')\n",
    "\n",
    "# # print(divided_areas)\n",
    "\n",
    "# for index, row in divided_areas.iterrows():\n",
    "#     geojson = row.geometry.__geo_interface__\n",
    "#     folium.GeoJson(geojson).add_to(m)\n",
    "    \n",
    "# centroids = set()\n",
    "\n",
    "# for index, row in divided_areas.iterrows():    \n",
    "#     if(polygon_geom.intersects(row.geometry).bool()==True):\n",
    "#         centroids.add(row.geometry.centroid)\n",
    "\n",
    "# for centroid in centroids:\n",
    "#     # print(centroid)\n",
    "#     folium.GeoJson(centroid).add_to(m)\n",
    "\n",
    "# folium.GeoJson(divided_areas.to_json).add_to(m)\n",
    "\n",
    "\n",
    "m"
   ]
  },
  {
   "attachments": {},
   "cell_type": "markdown",
   "metadata": {},
   "source": [
    "### The class interface is created and the method get_weather_forecast is called by group 6"
   ]
  }
 ],
 "metadata": {
  "kernelspec": {
   "display_name": "Python 3",
   "language": "python",
   "name": "python3"
  },
  "language_info": {
   "codemirror_mode": {
    "name": "ipython",
    "version": 3
   },
   "file_extension": ".py",
   "mimetype": "text/x-python",
   "name": "python",
   "nbconvert_exporter": "python",
   "pygments_lexer": "ipython3",
   "version": "3.10.11"
  }
 },
 "nbformat": 4,
 "nbformat_minor": 0
}
