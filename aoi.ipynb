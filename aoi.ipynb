{
 "cells": [
  {
   "cell_type": "code",
   "execution_count": 70,
   "metadata": {},
   "outputs": [],
   "source": [
    "from interface import Interface\n",
    "from shapely import Polygon\n",
    "import folium\n",
    "import geopandas\n",
    "import json\n",
    "from shapely.geometry import shape"
   ]
  },
  {
   "cell_type": "code",
   "execution_count": 71,
   "metadata": {},
   "outputs": [
    {
     "data": {
      "text/plain": [
       "<folium.features.GeoJson at 0x17f19affbe0>"
      ]
     },
     "execution_count": 71,
     "metadata": {},
     "output_type": "execute_result"
    }
   ],
   "source": [
    "with open('AOIs\\#0001_AoiID_1.geojson') as f:\n",
    "    data = json.load(f)\n",
    "\n",
    "# Create a Folium map centered at a specific location\n",
    "map = folium.Map(location=[1, 1], zoom_start=12)\n",
    "\n",
    "# Add the GeoJSON data to the map\n",
    "folium.GeoJson(data).add_to(map)\n",
    "\n",
    "# Display the map\n",
    "# map"
   ]
  },
  {
   "cell_type": "code",
   "execution_count": 72,
   "metadata": {},
   "outputs": [],
   "source": [
    "coordinates = data['features'][0]['geometry']['coordinates']\n",
    "\n",
    "# Create a Shapely MultiPolygon object\n",
    "multipolygon = shape({\"type\": \"MultiPolygon\", \"coordinates\": coordinates})\n",
    "\n",
    "\n",
    "    "
   ]
  }
 ],
 "metadata": {
  "kernelspec": {
   "display_name": "Python 3",
   "language": "python",
   "name": "python3"
  },
  "language_info": {
   "codemirror_mode": {
    "name": "ipython",
    "version": 3
   },
   "file_extension": ".py",
   "mimetype": "text/x-python",
   "name": "python",
   "nbconvert_exporter": "python",
   "pygments_lexer": "ipython3",
   "version": "3.10.11"
  },
  "orig_nbformat": 4
 },
 "nbformat": 4,
 "nbformat_minor": 2
}
